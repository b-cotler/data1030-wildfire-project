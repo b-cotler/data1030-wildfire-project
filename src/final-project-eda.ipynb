{
 "cells": [
  {
   "cell_type": "markdown",
   "metadata": {},
   "source": [
    "Read in the data"
   ]
  },
  {
   "cell_type": "code",
   "execution_count": 1,
   "metadata": {},
   "outputs": [],
   "source": [
    "import sqlite3\n",
    "import pandas as pd\n",
    "import numpy as np\n",
    "import matplotlib.pyplot as plt\n",
    "\n",
    "connection = sqlite3.connect('../final-project/FPA_FOD_20170508.sqlite')\n",
    "fires_df = pd.read_sql_query(\"SELECT FIRE_YEAR,STAT_CAUSE_DESCR,LATITUDE,LONGITUDE,STATE,DISCOVERY_DATE,FIRE_SIZE FROM 'Fires'\", connection)\n"
   ]
  },
  {
   "cell_type": "code",
   "execution_count": 3,
   "metadata": {},
   "outputs": [
    {
     "name": "stdout",
     "output_type": "stream",
     "text": [
      "   FIRE_YEAR STAT_CAUSE_DESCR   LATITUDE   LONGITUDE STATE  DISCOVERY_DATE  \\\n",
      "0       2005    Miscellaneous  40.036944 -121.005833    CA       2453403.5   \n",
      "1       2004        Lightning  38.933056 -120.404444    CA       2453137.5   \n",
      "2       2004   Debris Burning  38.984167 -120.735556    CA       2453156.5   \n",
      "3       2004        Lightning  38.559167 -119.913333    CA       2453184.5   \n",
      "4       2004        Lightning  38.559167 -119.933056    CA       2453184.5   \n",
      "\n",
      "   FIRE_SIZE       DATE  \n",
      "0       0.10 2005-02-02  \n",
      "1       0.25 2004-05-12  \n",
      "2       0.10 2004-05-31  \n",
      "3       0.10 2004-06-28  \n",
      "4       0.10 2004-06-28  \n"
     ]
    }
   ],
   "source": [
    "fires_df['DATE'] = pd.to_datetime(fires_df['DISCOVERY_DATE'] - pd.Timestamp(0).to_julian_date(), unit='D')\n",
    "print(fires_df.head()) #check the data"
   ]
  },
  {
   "cell_type": "code",
   "execution_count": 4,
   "metadata": {},
   "outputs": [
    {
     "name": "stdout",
     "output_type": "stream",
     "text": [
      "(1880465, 8)\n"
     ]
    }
   ],
   "source": [
    "print(fires_df.shape)"
   ]
  },
  {
   "cell_type": "markdown",
   "metadata": {},
   "source": [
    "Use value counts and describe to get a preliminary understanding of the data"
   ]
  },
  {
   "cell_type": "code",
   "execution_count": 5,
   "metadata": {},
   "outputs": [
    {
     "data": {
      "text/plain": [
       "Debris Burning       429028\n",
       "Miscellaneous        323805\n",
       "Arson                281455\n",
       "Lightning            278468\n",
       "Missing/Undefined    166723\n",
       "Equipment Use        147612\n",
       "Campfire              76139\n",
       "Children              61167\n",
       "Smoking               52869\n",
       "Railroad              33455\n",
       "Powerline             14448\n",
       "Fireworks             11500\n",
       "Structure              3796\n",
       "Name: STAT_CAUSE_DESCR, dtype: int64"
      ]
     },
     "execution_count": 5,
     "metadata": {},
     "output_type": "execute_result"
    }
   ],
   "source": [
    "fires_df['STAT_CAUSE_DESCR'].value_counts()"
   ]
  },
  {
   "cell_type": "code",
   "execution_count": 6,
   "metadata": {},
   "outputs": [
    {
     "data": {
      "text/plain": [
       "2006    114004\n",
       "2000     96416\n",
       "2007     95573\n",
       "2011     90552\n",
       "1999     89363\n",
       "2005     88604\n",
       "2001     86587\n",
       "2008     85378\n",
       "2010     79889\n",
       "2009     78325\n",
       "1994     75955\n",
       "2002     75656\n",
       "1996     75574\n",
       "2015     74491\n",
       "2012     72769\n",
       "1995     71472\n",
       "2004     69279\n",
       "1998     68370\n",
       "2003     68261\n",
       "1992     67975\n",
       "2014     67753\n",
       "2013     64780\n",
       "1993     61989\n",
       "1997     61450\n",
       "Name: FIRE_YEAR, dtype: int64"
      ]
     },
     "execution_count": 6,
     "metadata": {},
     "output_type": "execute_result"
    }
   ],
   "source": [
    "fires_df[\"FIRE_YEAR\"].value_counts()"
   ]
  },
  {
   "cell_type": "code",
   "execution_count": 7,
   "metadata": {},
   "outputs": [
    {
     "data": {
      "text/plain": [
       "count    1.880465e+06\n",
       "mean     3.678121e+01\n",
       "std      6.139031e+00\n",
       "min      1.793972e+01\n",
       "25%      3.281860e+01\n",
       "50%      3.545250e+01\n",
       "75%      4.082720e+01\n",
       "max      7.033060e+01\n",
       "Name: LATITUDE, dtype: float64"
      ]
     },
     "execution_count": 7,
     "metadata": {},
     "output_type": "execute_result"
    }
   ],
   "source": [
    "fires_df[\"LATITUDE\"].describe()"
   ]
  },
  {
   "cell_type": "code",
   "execution_count": 8,
   "metadata": {},
   "outputs": [
    {
     "data": {
      "text/plain": [
       "count    1.880465e+06\n",
       "mean    -9.570494e+01\n",
       "std      1.671694e+01\n",
       "min     -1.788026e+02\n",
       "25%     -1.103635e+02\n",
       "50%     -9.204304e+01\n",
       "75%     -8.229760e+01\n",
       "max     -6.525694e+01\n",
       "Name: LONGITUDE, dtype: float64"
      ]
     },
     "execution_count": 8,
     "metadata": {},
     "output_type": "execute_result"
    }
   ],
   "source": [
    "fires_df[\"LONGITUDE\"].describe()"
   ]
  },
  {
   "cell_type": "code",
   "execution_count": 9,
   "metadata": {},
   "outputs": [
    {
     "data": {
      "text/plain": [
       "CA    189550\n",
       "GA    168867\n",
       "TX    142021\n",
       "NC    111277\n",
       "FL     90261\n",
       "SC     81315\n",
       "NY     80870\n",
       "MS     79230\n",
       "AZ     71586\n",
       "AL     66570\n",
       "OR     61088\n",
       "MN     44769\n",
       "OK     43239\n",
       "MT     40767\n",
       "NM     37478\n",
       "ID     36698\n",
       "CO     34157\n",
       "WA     33513\n",
       "WI     31861\n",
       "AR     31663\n",
       "TN     31154\n",
       "SD     30963\n",
       "UT     30725\n",
       "LA     30013\n",
       "KY     27089\n",
       "NJ     25949\n",
       "PR     22081\n",
       "WV     21967\n",
       "VA     21833\n",
       "MO     17953\n",
       "NV     16956\n",
       "ND     15201\n",
       "WY     14166\n",
       "ME     13150\n",
       "AK     12843\n",
       "MI     10502\n",
       "HI      9895\n",
       "PA      8712\n",
       "NE      7973\n",
       "KS      7673\n",
       "CT      4976\n",
       "IA      4134\n",
       "MD      3622\n",
       "OH      3479\n",
       "MA      2626\n",
       "NH      2452\n",
       "IL      2327\n",
       "IN      2098\n",
       "RI       480\n",
       "VT       456\n",
       "DE       171\n",
       "DC        66\n",
       "Name: STATE, dtype: int64"
      ]
     },
     "execution_count": 9,
     "metadata": {},
     "output_type": "execute_result"
    }
   ],
   "source": [
    "fires_df[\"STATE\"].value_counts()"
   ]
  },
  {
   "cell_type": "code",
   "execution_count": 10,
   "metadata": {},
   "outputs": [
    {
     "data": {
      "text/plain": [
       "count    1.880465e+06\n",
       "mean     7.452016e+01\n",
       "std      2.497598e+03\n",
       "min      1.000000e-05\n",
       "25%      1.000000e-01\n",
       "50%      1.000000e+00\n",
       "75%      3.300000e+00\n",
       "max      6.069450e+05\n",
       "Name: FIRE_SIZE, dtype: float64"
      ]
     },
     "execution_count": 10,
     "metadata": {},
     "output_type": "execute_result"
    }
   ],
   "source": [
    "fires_df[\"FIRE_SIZE\"].describe()"
   ]
  },
  {
   "cell_type": "code",
   "execution_count": 11,
   "metadata": {},
   "outputs": [
    {
     "name": "stderr",
     "output_type": "stream",
     "text": [
      "/Users/BrettCotler/anaconda3/lib/python3.6/site-packages/ipykernel_launcher.py:1: FutureWarning: Treating datetime data as categorical rather than numeric in `.describe` is deprecated and will be removed in a future version of pandas. Specify `datetime_is_numeric=True` to silence this warning and adopt the future behavior now.\n",
      "  \"\"\"Entry point for launching an IPython kernel.\n"
     ]
    },
    {
     "data": {
      "text/plain": [
       "count                 1880465\n",
       "unique                   8766\n",
       "top       2008-02-10 00:00:00\n",
       "freq                     1208\n",
       "first     1992-01-01 00:00:00\n",
       "last      2015-12-31 00:00:00\n",
       "Name: DATE, dtype: object"
      ]
     },
     "execution_count": 11,
     "metadata": {},
     "output_type": "execute_result"
    }
   ],
   "source": [
    "fires_df[\"DATE\"].describe()"
   ]
  },
  {
   "cell_type": "code",
   "execution_count": 12,
   "metadata": {},
   "outputs": [],
   "source": [
    "fires_df[\"DAY\"] = pd.DatetimeIndex(fires_df[\"DATE\"]).day\n",
    "fires_df[\"MONTH\"] = pd.DatetimeIndex(fires_df[\"DATE\"]).month"
   ]
  },
  {
   "cell_type": "code",
   "execution_count": 14,
   "metadata": {},
   "outputs": [
    {
     "name": "stdout",
     "output_type": "stream",
     "text": [
      "   FIRE_YEAR STAT_CAUSE_DESCR   LATITUDE   LONGITUDE STATE  DISCOVERY_DATE  \\\n",
      "0       2005    Miscellaneous  40.036944 -121.005833    CA       2453403.5   \n",
      "1       2004        Lightning  38.933056 -120.404444    CA       2453137.5   \n",
      "2       2004   Debris Burning  38.984167 -120.735556    CA       2453156.5   \n",
      "3       2004        Lightning  38.559167 -119.913333    CA       2453184.5   \n",
      "4       2004        Lightning  38.559167 -119.933056    CA       2453184.5   \n",
      "\n",
      "   FIRE_SIZE       DATE  DAY  MONTH  \n",
      "0       0.10 2005-02-02    2      2  \n",
      "1       0.25 2004-05-12   12      5  \n",
      "2       0.10 2004-05-31   31      5  \n",
      "3       0.10 2004-06-28   28      6  \n",
      "4       0.10 2004-06-28   28      6  \n"
     ]
    }
   ],
   "source": [
    "print(fires_df.head())"
   ]
  },
  {
   "cell_type": "markdown",
   "metadata": {},
   "source": [
    "Create some basic EDA visualizations"
   ]
  },
  {
   "cell_type": "code",
   "execution_count": 18,
   "metadata": {},
   "outputs": [
    {
     "data": {
      "image/png": "[encoded data removed]",
      "text/plain": [
       "<Figure size 432x288 with 1 Axes>"
      ]
     },
     "metadata": {
      "needs_background": "light"
     },
     "output_type": "display_data"
    }
   ],
   "source": [
    "fires_df.plot.scatter(\"LONGITUDE\", \"LATITUDE\", s = 10, alpha = 0.1)\n",
    "plt.xlabel(\"Longitude (degrees)\")\n",
    "plt.ylabel(\"Latitude (degrees)\")\n",
    "plt.title(\"Scatter Plot of Longitude v. Latitude Parameters\")\n",
    "plt.show()"
   ]
  },
  {
   "cell_type": "code",
   "execution_count": 25,
   "metadata": {},
   "outputs": [
    {
     "data": {
      "image/png": "[encoded data removed]",
      "text/plain": [
       "<Figure size 720x360 with 1 Axes>"
      ]
     },
     "metadata": {
      "needs_background": "light"
     },
     "output_type": "display_data"
    }
   ],
   "source": [
    "dataset = [fires_df[fires_df['STAT_CAUSE_DESCR'] == 'Debris Burning'][\"MONTH\"].values,\n",
    "          fires_df[fires_df['STAT_CAUSE_DESCR'] == 'Arson'][\"MONTH\"].values,\n",
    "          fires_df[fires_df['STAT_CAUSE_DESCR'] == 'Lightning'][\"MONTH\"].values,\n",
    "          fires_df[fires_df['STAT_CAUSE_DESCR'] == 'Equipment Use'][\"MONTH\"].values,\n",
    "          fires_df[fires_df['STAT_CAUSE_DESCR'] == 'Campfire'][\"MONTH\"].values,\n",
    "          fires_df[fires_df['STAT_CAUSE_DESCR'] == 'Children'][\"MONTH\"].values,\n",
    "          fires_df[fires_df['STAT_CAUSE_DESCR'] == 'Smoking'][\"MONTH\"].values]\n",
    "plt.figure(figsize=(10,5))\n",
    "plt.violinplot(dataset = dataset)\n",
    "plt.xticks([1,2,3,4,5,6,7], ['Debris', 'Arson', 'Lightning', 'Equipment', 'Campfire','Children', 'Smoking'])\n",
    "plt.title(\"Violin Plot: Cause of Fire by Month\")\n",
    "plt.ylabel('Month')\n",
    "plt.xlabel('Cause of Fire')\n",
    "plt.show()"
   ]
  },
  {
   "cell_type": "code",
   "execution_count": 28,
   "metadata": {},
   "outputs": [
    {
     "data": {
      "image/png": "[encoded data removed]",
      "text/plain": [
       "<Figure size 432x288 with 1 Axes>"
      ]
     },
     "metadata": {
      "needs_background": "light"
     },
     "output_type": "display_data"
    }
   ],
   "source": [
    "fires_df[(fires_df[\"STATE\"] == \"CA\")|(fires_df[\"STATE\"] == \"WA\")|(fires_df[\"STATE\"] == \"OR\")|\n",
    "                              (fires_df[\"STATE\"] == \"AK\")|(fires_df[\"STATE\"] == \"AZ\")][[\"FIRE_SIZE\",\"STATE\"]].boxplot(by = \"STATE\")\n",
    "plt.ylabel(\"fire size\")\n",
    "plt.xlabel('state')\n",
    "plt.yscale(\"log\")\n",
    "plt.title('')\n",
    "plt.show()\n"
   ]
  },
  {
   "cell_type": "markdown",
   "metadata": {},
   "source": [
    "Split the data"
   ]
  },
  {
   "cell_type": "code",
   "execution_count": 35,
   "metadata": {
    "scrolled": true
   },
   "outputs": [],
   "source": [
    "from sklearn.model_selection import train_test_split\n",
    "\n",
    "X_inter1 = fires_df.loc[:, fires_df.columns != 'STAT_CAUSE_DESCR']\n",
    "X_inter2 = X_inter1.loc[:, X_inter1.columns != 'DISCOVERY_DATE']\n",
    "X = X_inter2.loc[:, X_inter2.columns != 'DATE']\n",
    "y = fires_df['STAT_CAUSE_DESCR']\n",
    "\n"
   ]
  },
  {
   "cell_type": "code",
   "execution_count": 36,
   "metadata": {},
   "outputs": [
    {
     "name": "stdout",
     "output_type": "stream",
     "text": [
      "training set: (1842855, 7) (1842855,)\n",
      "(37610, 7) (37610,)\n",
      "validation set: (18805, 7) (18805,)\n",
      "test set: (18805, 7) (18805,)\n"
     ]
    }
   ],
   "source": [
    "random_state = 12\n",
    "\n",
    "X_train, X_other, y_train, y_other = train_test_split(X, y, train_size = 0.98, random_state = random_state)\n",
    "print(\"training set:\", X_train.shape, y_train.shape)\n",
    "print(X_other.shape, y_other.shape)\n",
    "\n",
    "X_val, X_test, y_val, y_test = train_test_split(X_other, y_other, train_size = 0.5, random_state = random_state)\n",
    "print(\"validation set:\", X_val.shape, y_val.shape)\n",
    "print(\"test set:\", X_test.shape, y_test.shape)\n"
   ]
  },
  {
   "cell_type": "markdown",
   "metadata": {},
   "source": [
    "Preprocess the data"
   ]
  },
  {
   "cell_type": "code",
   "execution_count": 44,
   "metadata": {},
   "outputs": [
    {
     "name": "stdout",
     "output_type": "stream",
     "text": [
      "transformed train features:\n",
      "[[7.]\n",
      " [1.]\n",
      " [2.]\n",
      " ...\n",
      " [4.]\n",
      " [4.]\n",
      " [2.]]\n",
      "transformed validation features:\n",
      "[[ 6.]\n",
      " [11.]\n",
      " [ 3.]\n",
      " ...\n",
      " [ 7.]\n",
      " [ 2.]\n",
      " [ 4.]]\n",
      "transformed test features:\n",
      "[[2.]\n",
      " [3.]\n",
      " [9.]\n",
      " ...\n",
      " [3.]\n",
      " [7.]\n",
      " [6.]]\n"
     ]
    }
   ],
   "source": [
    "import sklearn.preprocessing\n",
    "from sklearn.preprocessing import OrdinalEncoder\n",
    "\n",
    "cats = [[1,2,3,4,5,6,7,8,9,10,11,12]]\n",
    "\n",
    "\n",
    "enc = OrdinalEncoder(categories = cats)\n",
    "\n",
    "ordinal_ftr = [\"MONTH\"]\n",
    "\n",
    "enc.fit(X_train[ordinal_ftr])\n",
    "ordinal_train = enc.transform(X_train[ordinal_ftr])\n",
    "print('transformed train features:')\n",
    "print(ordinal_train)\n",
    "# transform X_val\n",
    "ordinal_val = enc.transform(X_val[ordinal_ftr])\n",
    "print('transformed validation features:')\n",
    "print(ordinal_val)\n",
    "# transform X_test\n",
    "ordinal_test = enc.transform(X_test[ordinal_ftr])\n",
    "print('transformed test features:')\n",
    "print(ordinal_test)\n",
    "\n",
    "\n"
   ]
  },
  {
   "cell_type": "code",
   "execution_count": 47,
   "metadata": {},
   "outputs": [
    {
     "name": "stdout",
     "output_type": "stream",
     "text": [
      "feature names: ['STATE_AK' 'STATE_AL' 'STATE_AR' 'STATE_AZ' 'STATE_CA' 'STATE_CO'\n",
      " 'STATE_CT' 'STATE_DC' 'STATE_DE' 'STATE_FL' 'STATE_GA' 'STATE_HI'\n",
      " 'STATE_IA' 'STATE_ID' 'STATE_IL' 'STATE_IN' 'STATE_KS' 'STATE_KY'\n",
      " 'STATE_LA' 'STATE_MA' 'STATE_MD' 'STATE_ME' 'STATE_MI' 'STATE_MN'\n",
      " 'STATE_MO' 'STATE_MS' 'STATE_MT' 'STATE_NC' 'STATE_ND' 'STATE_NE'\n",
      " 'STATE_NH' 'STATE_NJ' 'STATE_NM' 'STATE_NV' 'STATE_NY' 'STATE_OH'\n",
      " 'STATE_OK' 'STATE_OR' 'STATE_PA' 'STATE_PR' 'STATE_RI' 'STATE_SC'\n",
      " 'STATE_SD' 'STATE_TN' 'STATE_TX' 'STATE_UT' 'STATE_VA' 'STATE_VT'\n",
      " 'STATE_WA' 'STATE_WI' 'STATE_WV' 'STATE_WY']\n"
     ]
    }
   ],
   "source": [
    "from sklearn.preprocessing import OneHotEncoder\n",
    "onehot_ftr = [\"STATE\"]\n",
    "enc = OneHotEncoder(sparse = False, handle_unknown = 'ignore')\n",
    "enc.fit(X_train[onehot_ftr])\n",
    "\n",
    "print('feature names:', enc.get_feature_names(onehot_ftr))"
   ]
  },
  {
   "cell_type": "code",
   "execution_count": 50,
   "metadata": {},
   "outputs": [
    {
     "name": "stdout",
     "output_type": "stream",
     "text": [
      "transformed train features:\n",
      "[[0. 0. 0. ... 0. 0. 0.]\n",
      " [0. 0. 0. ... 0. 0. 0.]\n",
      " [0. 0. 0. ... 0. 0. 0.]\n",
      " ...\n",
      " [0. 0. 0. ... 0. 0. 0.]\n",
      " [0. 0. 0. ... 0. 0. 0.]\n",
      " [0. 0. 0. ... 0. 0. 0.]]\n",
      "transformed val features:\n",
      "[[0. 0. 0. ... 0. 0. 0.]\n",
      " [0. 0. 0. ... 0. 0. 0.]\n",
      " [0. 0. 0. ... 0. 0. 0.]\n",
      " ...\n",
      " [0. 0. 0. ... 0. 0. 0.]\n",
      " [0. 0. 0. ... 0. 0. 0.]\n",
      " [0. 0. 0. ... 0. 0. 0.]]\n",
      "transformed test features:\n",
      "[[0. 0. 0. ... 0. 0. 0.]\n",
      " [0. 0. 0. ... 0. 0. 0.]\n",
      " [0. 0. 0. ... 0. 0. 0.]\n",
      " ...\n",
      " [0. 0. 0. ... 0. 0. 1.]\n",
      " [0. 0. 0. ... 0. 0. 0.]\n",
      " [0. 0. 0. ... 0. 0. 1.]]\n"
     ]
    }
   ],
   "source": [
    "# transform X_train\n",
    "onehot_train = enc.transform(X_train[onehot_ftr])\n",
    "print('transformed train features:')\n",
    "print(onehot_train)\n",
    "# transform X_val\n",
    "onehot_val = enc.transform(X_val[onehot_ftr])\n",
    "print('transformed val features:')\n",
    "print(onehot_val)\n",
    "# transform X_test\n",
    "onehot_test = enc.transform(X_test[onehot_ftr])\n",
    "print('transformed test features:')\n",
    "print(onehot_test)"
   ]
  },
  {
   "cell_type": "code",
   "execution_count": 51,
   "metadata": {},
   "outputs": [],
   "source": [
    "from sklearn.preprocessing import MinMaxScaler\n",
    "\n",
    "minmax_ftrs = ['FIRE_YEAR', 'DAY']\n",
    "\n",
    "scaler = MinMaxScaler()\n",
    "scaler.fit(X_train[minmax_ftrs])\n",
    "print(scaler.transform(X_train[minmax_ftrs]))\n",
    "print(scaler.transform(X_val[minmax_ftrs])) \n",
    "print(scaler.transform(X_test[minmax_ftrs])) "
   ]
  },
  {
   "cell_type": "code",
   "execution_count": 55,
   "metadata": {},
   "outputs": [],
   "source": [
    "from sklearn.preprocessing import StandardScaler\n",
    "\n",
    "std_ftrs = ['LONGITUDE', 'LATITUDE','FIRE_SIZE']\n",
    "scaler = StandardScaler()\n",
    "print(scaler.fit_transform(X_train[std_ftrs]))\n",
    "print(scaler.transform(X_val[std_ftrs]))\n",
    "print(scaler.transform(X_test[std_ftrs]))"
   ]
  }
 ],
 "metadata": {
  "kernelspec": {
   "display_name": "Python 3",
   "language": "python",
   "name": "python3"
  },
  "language_info": {
   "codemirror_mode": {
    "name": "ipython",
    "version": 3
   },
   "file_extension": ".py",
   "mimetype": "text/x-python",
   "name": "python",
   "nbconvert_exporter": "python",
   "pygments_lexer": "ipython3",
   "version": "3.7.8"
  }
 },
 "nbformat": 4,
 "nbformat_minor": 2
}
