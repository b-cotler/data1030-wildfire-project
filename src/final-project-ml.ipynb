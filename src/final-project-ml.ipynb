{
 "cells": [
  {
   "cell_type": "code",
   "execution_count": 2,
   "metadata": {},
   "outputs": [
    {
     "name": "stdout",
     "output_type": "stream",
     "text": [
      "\u001b[42m[ OK ]\u001b[0m Python version is 3.7.8 | packaged by conda-forge | (default, Jul 31 2020, 02:37:09) \n",
      "[Clang 10.0.1 ]\n",
      "\n",
      "\u001b[42m[ OK ]\u001b[0m numpy version 1.18.5 is installed.\n",
      "\u001b[42m[ OK ]\u001b[0m matplotlib version 3.2.2 is installed.\n",
      "\u001b[42m[ OK ]\u001b[0m sklearn version 0.23.1 is installed.\n",
      "\u001b[42m[ OK ]\u001b[0m pandas version 1.0.5 is installed.\n",
      "\u001b[42m[ OK ]\u001b[0m xgboost version 1.1.1 is installed.\n",
      "\u001b[42m[ OK ]\u001b[0m shap version 0.35.0 is installed.\n"
     ]
    }
   ],
   "source": [
    "from __future__ import print_function\n",
    "from distutils.version import LooseVersion as Version\n",
    "import sys\n",
    "\n",
    "OK = '\\x1b[42m[ OK ]\\x1b[0m'\n",
    "FAIL = \"\\x1b[41m[FAIL]\\x1b[0m\"\n",
    "\n",
    "try:\n",
    "    import importlib\n",
    "except ImportError:\n",
    "    print(FAIL, \"Python version 3.7 is required,\"\n",
    "                \" but %s is installed.\" % sys.version)\n",
    "\n",
    "def import_version(pkg, min_ver, fail_msg=\"\"):\n",
    "    mod = None\n",
    "    try:\n",
    "        mod = importlib.import_module(pkg)\n",
    "        if pkg in {'PIL'}:\n",
    "            ver = mod.VERSION\n",
    "        else:\n",
    "            ver = mod.__version__\n",
    "        if Version(ver) == min_ver:\n",
    "            print(OK, \"%s version %s is installed.\"\n",
    "                  % (lib, min_ver))\n",
    "        else:\n",
    "            print(FAIL, \"%s version %s is required, but %s installed.\"\n",
    "                  % (lib, min_ver, ver))    \n",
    "    except ImportError:\n",
    "        print(FAIL, '%s not installed. %s' % (pkg, fail_msg))\n",
    "    return mod\n",
    "\n",
    "\n",
    "# first check the python version\n",
    "pyversion = Version(sys.version)\n",
    "if pyversion >= \"3.7\":\n",
    "    print(OK, \"Python version is %s\" % sys.version)\n",
    "elif pyversion < \"3.7\":\n",
    "    print(FAIL, \"Python version 3.7 is required,\"\n",
    "                \" but %s is installed.\" % sys.version)\n",
    "else:\n",
    "    print(FAIL, \"Unknown Python version: %s\" % sys.version)\n",
    "\n",
    "    \n",
    "print()\n",
    "requirements = {'numpy': \"1.18.5\", 'matplotlib': \"3.2.2\",'sklearn': \"0.23.1\", \n",
    "                'pandas': \"1.0.5\",'xgboost': \"1.1.1\", 'shap': \"0.35.0\"}\n",
    "\n",
    "# now the dependencies\n",
    "for lib, required_version in list(requirements.items()):\n",
    "    import_version(lib, required_version)"
   ]
  },
  {
   "cell_type": "code",
   "execution_count": 3,
   "metadata": {},
   "outputs": [],
   "source": [
    "import sqlite3\n",
    "import pandas as pd\n",
    "import numpy as np\n",
    "import matplotlib.pyplot as plt\n",
    "\n",
    "#retrieve data from sqlite database\n",
    "connection = sqlite3.connect('../final-project/FPA_FOD_20170508.sqlite')\n",
    "fires_df = pd.read_sql_query(\"SELECT FIRE_YEAR,STAT_CAUSE_DESCR,LATITUDE,LONGITUDE,STATE,DISCOVERY_DATE,FIRE_SIZE FROM 'Fires'\", connection)\n"
   ]
  },
  {
   "cell_type": "code",
   "execution_count": 4,
   "metadata": {},
   "outputs": [],
   "source": [
    "#modify date information\n",
    "fires_df['DATE'] = pd.to_datetime(fires_df['DISCOVERY_DATE'] - pd.Timestamp(0).to_julian_date(), unit='D')\n",
    "fires_df[\"DAY\"] = pd.DatetimeIndex(fires_df[\"DATE\"]).day\n",
    "fires_df[\"MONTH\"] = pd.DatetimeIndex(fires_df[\"DATE\"]).month"
   ]
  },
  {
   "cell_type": "code",
   "execution_count": 5,
   "metadata": {},
   "outputs": [],
   "source": [
    "\n",
    "\n",
    "#prep data for splitting\n",
    "X_inter1 = fires_df.loc[:, fires_df.columns != 'STAT_CAUSE_DESCR']\n",
    "X_inter2 = X_inter1.loc[:, X_inter1.columns != 'DISCOVERY_DATE']\n",
    "X = X_inter2.loc[:, X_inter2.columns != 'DATE']\n",
    "y = fires_df['STAT_CAUSE_DESCR']\n",
    "\n",
    "\n"
   ]
  },
  {
   "cell_type": "code",
   "execution_count": 31,
   "metadata": {},
   "outputs": [],
   "source": [
    "from sklearn.model_selection import StratifiedShuffleSplit\n",
    "\n",
    "sss = StratifiedShuffleSplit(n_splits = 1, random_state = 12, train_size = 0.01)\n",
    "for sub_idx, left_out_idx in sss.split(X,y):\n",
    "    X_sub = X.iloc[sub_idx]\n",
    "    y_sub = y.iloc[sub_idx]\n",
    "\n",
    "\n",
    "\n",
    "    \n"
   ]
  },
  {
   "cell_type": "code",
   "execution_count": 32,
   "metadata": {},
   "outputs": [],
   "source": [
    "# preprocess with pipeline and columntransformer\n",
    "from sklearn.compose import ColumnTransformer\n",
    "from sklearn.pipeline import Pipeline\n",
    "from sklearn.preprocessing import OneHotEncoder\n",
    "from sklearn.preprocessing import OrdinalEncoder\n",
    "from sklearn.preprocessing import MinMaxScaler\n",
    "from sklearn.preprocessing import StandardScaler\n",
    "\n",
    "onehot_ftrs = [\"STATE\"]\n",
    "ordinal_ftrs = [\"MONTH\"]\n",
    "ordinal_cats = [[1,2,3,4,5,6,7,8,9,10,11,12]]\n",
    "minmax_ftrs = ['FIRE_YEAR', 'DAY']\n",
    "standard_ftrs = ['LONGITUDE', 'LATITUDE','FIRE_SIZE']\n",
    "\n",
    "# one-hot encoder\n",
    "categorical_transformer = Pipeline(steps=[\n",
    "    ('onehot', OneHotEncoder(sparse=False,handle_unknown='ignore'))])\n",
    "\n",
    "# ordinal encoder\n",
    "ordinal_transformer = Pipeline(steps=[\n",
    "    ('ordinal', OrdinalEncoder(categories = ordinal_cats))])\n",
    "\n",
    "# standard scaler\n",
    "standard_transformer = Pipeline(steps=[\n",
    "    ('scaler', StandardScaler())])\n",
    "\n",
    "#minmax_scaler\n",
    "minmax_transformer = Pipeline(steps=[\n",
    "    ('scaler', MinMaxScaler())])\n",
    "\n",
    "# collect the transformers\n",
    "preprocessor = ColumnTransformer(\n",
    "    transformers=[\n",
    "        ('standard', standard_transformer, standard_ftrs),\n",
    "        ('ohe', categorical_transformer, onehot_ftrs),\n",
    "        ('ord', ordinal_transformer, ordinal_ftrs),\n",
    "        ('mms', minmax_transformer, minmax_ftrs)])\n",
    "\n"
   ]
  },
  {
   "cell_type": "code",
   "execution_count": 35,
   "metadata": {},
   "outputs": [],
   "source": [
    "#fit preprocessor to collect feature names\n",
    "preprocessor.fit(X_sub)\n",
    "\n",
    "#collect feature names\n",
    "feature_names = preprocessor.transformers_[0][-1] + \\\n",
    "                list(preprocessor.named_transformers_['ohe'][0].get_feature_names(onehot_ftrs)) + \\\n",
    "                preprocessor.transformers_[2][-1] + \\\n",
    "                preprocessor.transformers_[3][-1]\n",
    "\n"
   ]
  },
  {
   "cell_type": "code",
   "execution_count": 65,
   "metadata": {},
   "outputs": [],
   "source": [
    "from sklearn.model_selection import train_test_split\n",
    "from sklearn.model_selection import GridSearchCV\n",
    "from sklearn.model_selection import KFold\n",
    "from sklearn.pipeline import make_pipeline\n",
    "from sklearn.metrics import accuracy_score\n",
    "from sklearn.preprocessing import LabelEncoder\n",
    "\n",
    "\n",
    "#write pipeline function to apply machine learning algorithm\n",
    "def apply_algo(ML_algo, param_grid, random_state):\n",
    "\n",
    "    test_scores = []\n",
    "    best_models = []\n",
    "    final_models = []\n",
    "    \n",
    "    # first split to separate out the test set\n",
    "    # we will use kfold on other\n",
    "    X_other, X_test, y_other, y_test = train_test_split(X_sub,y_sub,test_size = 0.2,random_state=random_state)\n",
    "\n",
    "    le = LabelEncoder()\n",
    "    y_other_prep = le.fit_transform(y_other)\n",
    "    y_test_prep = le.transform(y_test)\n",
    "    \n",
    "    \n",
    "    # splitter for other\n",
    "    kf = KFold(n_splits=4,shuffle=True,random_state=random_state)\n",
    "\n",
    "    # let's put together a pipeline\n",
    "    # the pipeline will fit_transform the training set (3 folds), and transform the last fold used as validation\n",
    "    # then it will train the ML algorithm on the training set and evaluate it on the validation set\n",
    "    # it repeats this step automatically such that each fold will be an evaluation set once\n",
    "    pipe = make_pipeline(preprocessor,ML_algo)\n",
    "\n",
    "    # use GridSearchCV\n",
    "    # GridSearchCV loops through all parameter combinations and collects the results \n",
    "    grid = GridSearchCV(pipe, param_grid=param_grid,scoring = 'accuracy',\n",
    "                        cv=kf, return_train_score = True, n_jobs=-1, verbose=True)\n",
    "\n",
    "    # this line actually fits the model on other\n",
    "    grid.fit(X_other, y_other_prep)\n",
    "    \n",
    "        \n",
    "    return grid, X_test, y_test_prep\n"
   ]
  },
  {
   "cell_type": "code",
   "execution_count": 66,
   "metadata": {},
   "outputs": [
    {
     "name": "stdout",
     "output_type": "stream",
     "text": [
      "Fitting 4 folds for each of 1 candidates, totalling 4 fits\n"
     ]
    },
    {
     "name": "stderr",
     "output_type": "stream",
     "text": [
      "[Parallel(n_jobs=-1)]: Using backend LokyBackend with 4 concurrent workers.\n",
      "[Parallel(n_jobs=-1)]: Done   2 out of   4 | elapsed:    2.8s remaining:    2.8s\n",
      "[Parallel(n_jobs=-1)]: Done   4 out of   4 | elapsed:    3.1s finished\n"
     ]
    },
    {
     "name": "stdout",
     "output_type": "stream",
     "text": [
      "NB complete\n",
      "Fitting 4 folds for each of 1 candidates, totalling 4 fits\n"
     ]
    },
    {
     "name": "stderr",
     "output_type": "stream",
     "text": [
      "[Parallel(n_jobs=-1)]: Using backend LokyBackend with 4 concurrent workers.\n",
      "[Parallel(n_jobs=-1)]: Done   2 out of   4 | elapsed:    0.8s remaining:    0.8s\n",
      "[Parallel(n_jobs=-1)]: Done   4 out of   4 | elapsed:    0.9s finished\n",
      "[Parallel(n_jobs=-1)]: Using backend LokyBackend with 4 concurrent workers.\n"
     ]
    },
    {
     "name": "stdout",
     "output_type": "stream",
     "text": [
      "NB complete\n",
      "Fitting 4 folds for each of 1 candidates, totalling 4 fits\n"
     ]
    },
    {
     "name": "stderr",
     "output_type": "stream",
     "text": [
      "[Parallel(n_jobs=-1)]: Done   2 out of   4 | elapsed:    0.7s remaining:    0.7s\n",
      "[Parallel(n_jobs=-1)]: Done   4 out of   4 | elapsed:    0.7s finished\n",
      "[Parallel(n_jobs=-1)]: Using backend LokyBackend with 4 concurrent workers.\n"
     ]
    },
    {
     "name": "stdout",
     "output_type": "stream",
     "text": [
      "NB complete\n",
      "Fitting 4 folds for each of 1 candidates, totalling 4 fits\n"
     ]
    },
    {
     "name": "stderr",
     "output_type": "stream",
     "text": [
      "[Parallel(n_jobs=-1)]: Done   2 out of   4 | elapsed:    0.5s remaining:    0.5s\n",
      "[Parallel(n_jobs=-1)]: Done   4 out of   4 | elapsed:    0.5s finished\n",
      "[Parallel(n_jobs=-1)]: Using backend LokyBackend with 4 concurrent workers.\n"
     ]
    },
    {
     "name": "stdout",
     "output_type": "stream",
     "text": [
      "NB complete\n",
      "Fitting 4 folds for each of 1 candidates, totalling 4 fits\n",
      "NB complete\n"
     ]
    },
    {
     "name": "stderr",
     "output_type": "stream",
     "text": [
      "[Parallel(n_jobs=-1)]: Done   2 out of   4 | elapsed:    0.8s remaining:    0.8s\n",
      "[Parallel(n_jobs=-1)]: Done   4 out of   4 | elapsed:    0.8s finished\n"
     ]
    }
   ],
   "source": [
    "from sklearn.discriminant_analysis import QuadraticDiscriminantAnalysis\n",
    "from sklearn.naive_bayes import GaussianNB\n",
    "from sklearn.ensemble import RandomForestClassifier\n",
    "from sklearn.svm import SVC\n",
    "from sklearn.tree import DecisionTreeClassifier\n",
    "from sklearn.neighbors import KNeighborsClassifier\n",
    "import pickle\n",
    "\n",
    "random_states = [12, 24, 36, 48, 60]\n",
    "#Naive Bayes\n",
    "for i in range(len(random_states)):\n",
    "    ML_algo = GaussianNB()\n",
    "    param_grid = {}\n",
    "    nb_grid, X_test_nb, y_test_nb = apply_algo(ML_algo,param_grid, random_states[i])\n",
    "    print(\"NB complete\")\n",
    "    # save the output so I can use it later\n",
    "    file = open('results/nb_grid' + str(i) + '.save', 'wb')\n",
    "    pickle.dump((nb_grid,X_test_nb,y_test_nb),file)\n",
    "    file.close()\n"
   ]
  },
  {
   "cell_type": "code",
   "execution_count": 67,
   "metadata": {},
   "outputs": [
    {
     "name": "stdout",
     "output_type": "stream",
     "text": [
      "Fitting 4 folds for each of 1 candidates, totalling 4 fits\n"
     ]
    },
    {
     "name": "stderr",
     "output_type": "stream",
     "text": [
      "[Parallel(n_jobs=-1)]: Using backend LokyBackend with 4 concurrent workers.\n",
      "[Parallel(n_jobs=-1)]: Done   2 out of   4 | elapsed:    9.5s remaining:    9.5s\n",
      "[Parallel(n_jobs=-1)]: Done   4 out of   4 | elapsed:    9.6s finished\n",
      "The max_iter was reached which means the coef_ did not converge\n",
      "[Parallel(n_jobs=-1)]: Using backend LokyBackend with 4 concurrent workers.\n"
     ]
    },
    {
     "name": "stdout",
     "output_type": "stream",
     "text": [
      "Logistic Regression complete\n",
      "Fitting 4 folds for each of 1 candidates, totalling 4 fits\n"
     ]
    },
    {
     "name": "stderr",
     "output_type": "stream",
     "text": [
      "[Parallel(n_jobs=-1)]: Done   2 out of   4 | elapsed:    8.2s remaining:    8.2s\n",
      "[Parallel(n_jobs=-1)]: Done   4 out of   4 | elapsed:    8.4s finished\n",
      "The max_iter was reached which means the coef_ did not converge\n",
      "[Parallel(n_jobs=-1)]: Using backend LokyBackend with 4 concurrent workers.\n"
     ]
    },
    {
     "name": "stdout",
     "output_type": "stream",
     "text": [
      "Logistic Regression complete\n",
      "Fitting 4 folds for each of 1 candidates, totalling 4 fits\n"
     ]
    },
    {
     "name": "stderr",
     "output_type": "stream",
     "text": [
      "[Parallel(n_jobs=-1)]: Done   2 out of   4 | elapsed:    8.2s remaining:    8.2s\n",
      "[Parallel(n_jobs=-1)]: Done   4 out of   4 | elapsed:    8.3s finished\n",
      "The max_iter was reached which means the coef_ did not converge\n",
      "[Parallel(n_jobs=-1)]: Using backend LokyBackend with 4 concurrent workers.\n"
     ]
    },
    {
     "name": "stdout",
     "output_type": "stream",
     "text": [
      "Logistic Regression complete\n",
      "Fitting 4 folds for each of 1 candidates, totalling 4 fits\n"
     ]
    },
    {
     "name": "stderr",
     "output_type": "stream",
     "text": [
      "[Parallel(n_jobs=-1)]: Done   2 out of   4 | elapsed:    8.4s remaining:    8.4s\n",
      "[Parallel(n_jobs=-1)]: Done   4 out of   4 | elapsed:    8.6s finished\n",
      "The max_iter was reached which means the coef_ did not converge\n",
      "[Parallel(n_jobs=-1)]: Using backend LokyBackend with 4 concurrent workers.\n"
     ]
    },
    {
     "name": "stdout",
     "output_type": "stream",
     "text": [
      "Logistic Regression complete\n",
      "Fitting 4 folds for each of 1 candidates, totalling 4 fits\n"
     ]
    },
    {
     "name": "stderr",
     "output_type": "stream",
     "text": [
      "[Parallel(n_jobs=-1)]: Done   2 out of   4 | elapsed:    8.2s remaining:    8.2s\n",
      "[Parallel(n_jobs=-1)]: Done   4 out of   4 | elapsed:    8.3s finished\n"
     ]
    },
    {
     "name": "stdout",
     "output_type": "stream",
     "text": [
      "Logistic Regression complete\n"
     ]
    },
    {
     "name": "stderr",
     "output_type": "stream",
     "text": [
      "The max_iter was reached which means the coef_ did not converge\n"
     ]
    }
   ],
   "source": [
    "from sklearn.linear_model import LogisticRegression\n",
    "#Logistic Regression\n",
    "for i in range(len(random_states)):\n",
    "    ML_algo = LogisticRegression(solver = 'saga')\n",
    "    param_grid = {}\n",
    "    lr_grid, X_test_lr, y_test_lr = apply_algo(ML_algo,param_grid,  random_states[i])\n",
    "    print(\"Logistic Regression complete\")\n",
    "\n",
    "    # save the output so I can use it later\n",
    "    file = open('results/lr_grid' + str(i) + '.save', 'wb')\n",
    "    pickle.dump((lr_grid,X_test_lr,y_test_lr),file)\n",
    "    file.close()"
   ]
  },
  {
   "cell_type": "code",
   "execution_count": 68,
   "metadata": {},
   "outputs": [
    {
     "name": "stderr",
     "output_type": "stream",
     "text": [
      "[Parallel(n_jobs=-1)]: Using backend LokyBackend with 4 concurrent workers.\n"
     ]
    },
    {
     "name": "stdout",
     "output_type": "stream",
     "text": [
      "Fitting 4 folds for each of 4 candidates, totalling 16 fits\n"
     ]
    },
    {
     "name": "stderr",
     "output_type": "stream",
     "text": [
      "[Parallel(n_jobs=-1)]: Done  16 out of  16 | elapsed:    1.4s finished\n",
      "[Parallel(n_jobs=-1)]: Using backend LokyBackend with 4 concurrent workers.\n"
     ]
    },
    {
     "name": "stdout",
     "output_type": "stream",
     "text": [
      "Decision Tree complete\n",
      "Fitting 4 folds for each of 4 candidates, totalling 16 fits\n"
     ]
    },
    {
     "name": "stderr",
     "output_type": "stream",
     "text": [
      "[Parallel(n_jobs=-1)]: Done  16 out of  16 | elapsed:    1.3s finished\n",
      "[Parallel(n_jobs=-1)]: Using backend LokyBackend with 4 concurrent workers.\n"
     ]
    },
    {
     "name": "stdout",
     "output_type": "stream",
     "text": [
      "Decision Tree complete\n",
      "Fitting 4 folds for each of 4 candidates, totalling 16 fits\n"
     ]
    },
    {
     "name": "stderr",
     "output_type": "stream",
     "text": [
      "[Parallel(n_jobs=-1)]: Done  16 out of  16 | elapsed:    1.4s finished\n",
      "[Parallel(n_jobs=-1)]: Using backend LokyBackend with 4 concurrent workers.\n"
     ]
    },
    {
     "name": "stdout",
     "output_type": "stream",
     "text": [
      "Decision Tree complete\n",
      "Fitting 4 folds for each of 4 candidates, totalling 16 fits\n"
     ]
    },
    {
     "name": "stderr",
     "output_type": "stream",
     "text": [
      "[Parallel(n_jobs=-1)]: Done  16 out of  16 | elapsed:    1.1s finished\n",
      "[Parallel(n_jobs=-1)]: Using backend LokyBackend with 4 concurrent workers.\n"
     ]
    },
    {
     "name": "stdout",
     "output_type": "stream",
     "text": [
      "Decision Tree complete\n",
      "Fitting 4 folds for each of 4 candidates, totalling 16 fits\n",
      "Decision Tree complete\n"
     ]
    },
    {
     "name": "stderr",
     "output_type": "stream",
     "text": [
      "[Parallel(n_jobs=-1)]: Done  16 out of  16 | elapsed:    1.1s finished\n"
     ]
    }
   ],
   "source": [
    "#decision tree\n",
    "for i in range(len(random_states)):\n",
    "    ML_algo = DecisionTreeClassifier()\n",
    "    param_grid = {'decisiontreeclassifier__max_depth': [1, 3, 10, 30]}\n",
    "    dt_grid, X_test_dt, y_test_dt = apply_algo(ML_algo,param_grid, random_states[i])\n",
    "    print(\"Decision Tree complete\")\n",
    "\n",
    "    # save the output so I can use it later\n",
    "    file = open('results/dt_grid' + str(i) + '.save', 'wb')\n",
    "    pickle.dump((dt_grid,X_test_dt,y_test_dt),file)\n",
    "    file.close()\n"
   ]
  },
  {
   "cell_type": "code",
   "execution_count": 69,
   "metadata": {},
   "outputs": [
    {
     "name": "stderr",
     "output_type": "stream",
     "text": [
      "[Parallel(n_jobs=-1)]: Using backend LokyBackend with 4 concurrent workers.\n"
     ]
    },
    {
     "name": "stdout",
     "output_type": "stream",
     "text": [
      "Fitting 4 folds for each of 9 candidates, totalling 36 fits\n"
     ]
    },
    {
     "name": "stderr",
     "output_type": "stream",
     "text": [
      "[Parallel(n_jobs=-1)]: Done  36 out of  36 | elapsed:   43.8s finished\n"
     ]
    },
    {
     "name": "stdout",
     "output_type": "stream",
     "text": [
      "RF complete\n",
      "Fitting 4 folds for each of 9 candidates, totalling 36 fits\n"
     ]
    },
    {
     "name": "stderr",
     "output_type": "stream",
     "text": [
      "[Parallel(n_jobs=-1)]: Using backend LokyBackend with 4 concurrent workers.\n",
      "[Parallel(n_jobs=-1)]: Done  36 out of  36 | elapsed:   53.7s finished\n"
     ]
    },
    {
     "name": "stdout",
     "output_type": "stream",
     "text": [
      "RF complete\n",
      "Fitting 4 folds for each of 9 candidates, totalling 36 fits\n"
     ]
    },
    {
     "name": "stderr",
     "output_type": "stream",
     "text": [
      "[Parallel(n_jobs=-1)]: Using backend LokyBackend with 4 concurrent workers.\n",
      "[Parallel(n_jobs=-1)]: Done  36 out of  36 | elapsed:   42.1s finished\n"
     ]
    },
    {
     "name": "stdout",
     "output_type": "stream",
     "text": [
      "RF complete\n",
      "Fitting 4 folds for each of 9 candidates, totalling 36 fits\n"
     ]
    },
    {
     "name": "stderr",
     "output_type": "stream",
     "text": [
      "[Parallel(n_jobs=-1)]: Using backend LokyBackend with 4 concurrent workers.\n",
      "[Parallel(n_jobs=-1)]: Done  36 out of  36 | elapsed:   43.2s finished\n"
     ]
    },
    {
     "name": "stdout",
     "output_type": "stream",
     "text": [
      "RF complete\n",
      "Fitting 4 folds for each of 9 candidates, totalling 36 fits\n"
     ]
    },
    {
     "name": "stderr",
     "output_type": "stream",
     "text": [
      "[Parallel(n_jobs=-1)]: Using backend LokyBackend with 4 concurrent workers.\n",
      "[Parallel(n_jobs=-1)]: Done  36 out of  36 | elapsed:   43.8s finished\n"
     ]
    },
    {
     "name": "stdout",
     "output_type": "stream",
     "text": [
      "RF complete\n"
     ]
    }
   ],
   "source": [
    "#rf\n",
    "for i in range(len(random_states)):\n",
    "    ML_algo = RandomForestClassifier()\n",
    "    param_grid = {'randomforestclassifier__max_depth': [1, 3, 7], # the max_depth should be smaller or equal than the number of features roughly\n",
    "              'randomforestclassifier__max_features': [0.5,0.75,1.0],\n",
    "              'randomforestclassifier__random_state': [12]} # linearly spaced between 0.5 and 1\n",
    "    rf_grid, X_test_rf, y_test_rf = apply_algo(ML_algo,param_grid, 12)\n",
    "    print(\"RF complete\")\n",
    "\n",
    "    # save the output so I can use it later\n",
    "    file = open('results/rf_grid' + str(i) + '.save', 'wb')\n",
    "    pickle.dump((rf_grid,X_test_rf,y_test_rf),file)\n",
    "    file.close()\n",
    "\n",
    "\n"
   ]
  },
  {
   "cell_type": "code",
   "execution_count": 70,
   "metadata": {},
   "outputs": [
    {
     "name": "stdout",
     "output_type": "stream",
     "text": [
      "Fitting 4 folds for each of 4 candidates, totalling 16 fits\n"
     ]
    },
    {
     "name": "stderr",
     "output_type": "stream",
     "text": [
      "[Parallel(n_jobs=-1)]: Using backend LokyBackend with 4 concurrent workers.\n",
      "[Parallel(n_jobs=-1)]: Done  16 out of  16 | elapsed:   23.8s finished\n",
      "[Parallel(n_jobs=-1)]: Using backend LokyBackend with 4 concurrent workers.\n"
     ]
    },
    {
     "name": "stdout",
     "output_type": "stream",
     "text": [
      "KNN complete\n",
      "Fitting 4 folds for each of 4 candidates, totalling 16 fits\n"
     ]
    },
    {
     "name": "stderr",
     "output_type": "stream",
     "text": [
      "[Parallel(n_jobs=-1)]: Done  16 out of  16 | elapsed:   22.8s finished\n",
      "[Parallel(n_jobs=-1)]: Using backend LokyBackend with 4 concurrent workers.\n"
     ]
    },
    {
     "name": "stdout",
     "output_type": "stream",
     "text": [
      "KNN complete\n",
      "Fitting 4 folds for each of 4 candidates, totalling 16 fits\n"
     ]
    },
    {
     "name": "stderr",
     "output_type": "stream",
     "text": [
      "[Parallel(n_jobs=-1)]: Done  16 out of  16 | elapsed:   22.4s finished\n",
      "[Parallel(n_jobs=-1)]: Using backend LokyBackend with 4 concurrent workers.\n"
     ]
    },
    {
     "name": "stdout",
     "output_type": "stream",
     "text": [
      "KNN complete\n",
      "Fitting 4 folds for each of 4 candidates, totalling 16 fits\n"
     ]
    },
    {
     "name": "stderr",
     "output_type": "stream",
     "text": [
      "[Parallel(n_jobs=-1)]: Done  16 out of  16 | elapsed:   24.6s finished\n",
      "[Parallel(n_jobs=-1)]: Using backend LokyBackend with 4 concurrent workers.\n"
     ]
    },
    {
     "name": "stdout",
     "output_type": "stream",
     "text": [
      "KNN complete\n",
      "Fitting 4 folds for each of 4 candidates, totalling 16 fits\n",
      "KNN complete\n"
     ]
    },
    {
     "name": "stderr",
     "output_type": "stream",
     "text": [
      "[Parallel(n_jobs=-1)]: Done  16 out of  16 | elapsed:   23.9s finished\n"
     ]
    }
   ],
   "source": [
    "#kneighbors\n",
    "for i in range(len(random_states)):\n",
    "    ML_algo = KNeighborsClassifier()\n",
    "    param_grid = {'kneighborsclassifier__n_neighbors': [1, 3, 10, 30]}\n",
    "    knn_grid, X_test_knn, y_test_knn = apply_algo(ML_algo,param_grid, 12)\n",
    "    print(\"KNN complete\")\n",
    "\n",
    "\n",
    "    # save the output so I can use it later\n",
    "    file = open('results/knn_grid' + str(i) + '.save', 'wb')\n",
    "    pickle.dump((knn_grid,X_test_knn,y_test_knn),file)\n",
    "    file.close()\n"
   ]
  },
  {
   "cell_type": "code",
   "execution_count": 80,
   "metadata": {},
   "outputs": [
    {
     "name": "stdout",
     "output_type": "stream",
     "text": [
      "nb0\n",
      "best_params:  {}\n",
      "baseline accuracy score for  nb0 is:  0.16671098112204202\n",
      "accuracy score for  nb0 is:  0.04653017814411061\n",
      "nb1\n",
      "best_params:  {}\n",
      "baseline accuracy score for  nb1 is:  0.17096516883807497\n",
      "accuracy score for  nb1 is:  0.04706195160861473\n",
      "nb2\n",
      "best_params:  {}\n",
      "baseline accuracy score for  nb2 is:  0.17149694230257911\n",
      "accuracy score for  nb2 is:  0.054506780111672426\n",
      "nb3\n",
      "best_params:  {}\n",
      "baseline accuracy score for  nb3 is:  0.1701675086413188\n",
      "accuracy score for  nb3 is:  0.050518479127891515\n",
      "nb4\n",
      "best_params:  {}\n",
      "baseline accuracy score for  nb4 is:  0.1706992821058229\n",
      "accuracy score for  nb4 is:  0.05184791278915182\n",
      "lr0\n",
      "best_params:  {}\n",
      "baseline accuracy score for  lr0 is:  0.16671098112204202\n",
      "accuracy score for  lr0 is:  0.39111938314278116\n",
      "lr1\n",
      "best_params:  {}\n",
      "baseline accuracy score for  lr1 is:  0.17096516883807497\n",
      "accuracy score for  lr1 is:  0.3839404413719755\n",
      "lr2\n",
      "best_params:  {}\n",
      "baseline accuracy score for  lr2 is:  0.17149694230257911\n",
      "accuracy score for  lr2 is:  0.4017548524328636\n",
      "lr3\n",
      "best_params:  {}\n",
      "baseline accuracy score for  lr3 is:  0.1701675086413188\n",
      "accuracy score for  lr3 is:  0.39643711778782237\n",
      "lr4\n",
      "best_params:  {}\n",
      "baseline accuracy score for  lr4 is:  0.1706992821058229\n",
      "accuracy score for  lr4 is:  0.3956394575910662\n",
      "dt0\n",
      "best_params:  {'decisiontreeclassifier__max_depth': 10}\n",
      "baseline accuracy score for  dt0 is:  0.16671098112204202\n",
      "accuracy score for  dt0 is:  0.44376495612868916\n",
      "dt1\n",
      "best_params:  {'decisiontreeclassifier__max_depth': 10}\n",
      "baseline accuracy score for  dt1 is:  0.17096516883807497\n",
      "accuracy score for  dt1 is:  0.41425152884871047\n",
      "dt2\n",
      "best_params:  {'decisiontreeclassifier__max_depth': 10}\n",
      "baseline accuracy score for  dt2 is:  0.17149694230257911\n",
      "accuracy score for  dt2 is:  0.4381813347513959\n",
      "dt3\n",
      "best_params:  {'decisiontreeclassifier__max_depth': 10}\n",
      "baseline accuracy score for  dt3 is:  0.1701675086413188\n",
      "accuracy score for  dt3 is:  0.4328636001063547\n",
      "dt4\n",
      "best_params:  {'decisiontreeclassifier__max_depth': 10}\n",
      "baseline accuracy score for  dt4 is:  0.1706992821058229\n",
      "accuracy score for  dt4 is:  0.4272799787290614\n",
      "rf0\n",
      "best_params:  {'randomforestclassifier__max_depth': 7, 'randomforestclassifier__max_features': 0.5, 'randomforestclassifier__random_state': 12}\n",
      "baseline accuracy score for  rf0 is:  0.16671098112204202\n",
      "accuracy score for  rf0 is:  0.4198351502260037\n",
      "rf1\n",
      "best_params:  {'randomforestclassifier__max_depth': 7, 'randomforestclassifier__max_features': 0.5, 'randomforestclassifier__random_state': 12}\n",
      "baseline accuracy score for  rf1 is:  0.16671098112204202\n",
      "accuracy score for  rf1 is:  0.4198351502260037\n",
      "rf2\n",
      "best_params:  {'randomforestclassifier__max_depth': 7, 'randomforestclassifier__max_features': 0.5, 'randomforestclassifier__random_state': 12}\n",
      "baseline accuracy score for  rf2 is:  0.16671098112204202\n",
      "accuracy score for  rf2 is:  0.4198351502260037\n",
      "rf3\n",
      "best_params:  {'randomforestclassifier__max_depth': 7, 'randomforestclassifier__max_features': 0.5, 'randomforestclassifier__random_state': 12}\n",
      "baseline accuracy score for  rf3 is:  0.16671098112204202\n",
      "accuracy score for  rf3 is:  0.4198351502260037\n",
      "rf4\n",
      "best_params:  {'randomforestclassifier__max_depth': 7, 'randomforestclassifier__max_features': 0.5, 'randomforestclassifier__random_state': 12}\n",
      "baseline accuracy score for  rf4 is:  0.16671098112204202\n",
      "accuracy score for  rf4 is:  0.4198351502260037\n",
      "knn0\n",
      "best_params:  {'kneighborsclassifier__n_neighbors': 30}\n",
      "baseline accuracy score for  knn0 is:  0.16671098112204202\n",
      "accuracy score for  knn0 is:  0.4267482052645573\n",
      "knn1\n",
      "best_params:  {'kneighborsclassifier__n_neighbors': 30}\n",
      "baseline accuracy score for  knn1 is:  0.16671098112204202\n",
      "accuracy score for  knn1 is:  0.4267482052645573\n",
      "knn2\n",
      "best_params:  {'kneighborsclassifier__n_neighbors': 30}\n",
      "baseline accuracy score for  knn2 is:  0.16671098112204202\n",
      "accuracy score for  knn2 is:  0.4267482052645573\n",
      "knn3\n",
      "best_params:  {'kneighborsclassifier__n_neighbors': 30}\n",
      "baseline accuracy score for  knn3 is:  0.16671098112204202\n",
      "accuracy score for  knn3 is:  0.4267482052645573\n",
      "knn4\n",
      "best_params:  {'kneighborsclassifier__n_neighbors': 30}\n",
      "baseline accuracy score for  knn4 is:  0.16671098112204202\n",
      "accuracy score for  knn4 is:  0.4267482052645573\n",
      "naive bayesaverage accuracy:  0.05009306035628822\n",
      "naive bayesbaseline accuracy:  0.17000797660196754\n",
      "naive bayesbaseline std:  0.001703336067859285\n",
      "naive bayesstd accuracy:  0.0029874122637996562\n",
      "Number of standard deviations from baseline:  -70.40003350389082\n",
      "logistic regressionaverage accuracy:  0.39377825046530174\n",
      "logistic regressionbaseline accuracy:  0.17000797660196754\n",
      "logistic regressionbaseline std:  0.001703336067859285\n",
      "logistic regressionstd accuracy:  0.00596677315721279\n",
      "Number of standard deviations from baseline:  131.37176983785926\n",
      "decision treeaverage accuracy:  0.4312682797128423\n",
      "decision treebaseline accuracy:  0.17000797660196754\n",
      "decision treebaseline std:  0.001703336067859285\n",
      "decision treestd accuracy:  0.010119077559496915\n",
      "Number of standard deviations from baseline:  153.38153641002913\n",
      "random forestaverage accuracy:  0.4198351502260037\n",
      "random forestbaseline accuracy:  0.16671098112204202\n",
      "random forestbaseline std:  0.0\n",
      "random foreststd accuracy:  0.0\n",
      "Number of standard deviations from baseline:  inf\n",
      "k nearest neighborsaverage accuracy:  0.42674820526455737\n",
      "k nearest neighborsbaseline accuracy:  0.16671098112204202\n",
      "k nearest neighborsbaseline std:  0.0\n",
      "k nearest neighborsstd accuracy:  5.551115123125783e-17\n",
      "Number of standard deviations from baseline:  inf\n"
     ]
    },
    {
     "name": "stderr",
     "output_type": "stream",
     "text": [
      "divide by zero encountered in double_scalars\n"
     ]
    }
   ],
   "source": [
    "from sklearn.metrics import accuracy_score\n",
    "import pickle\n",
    "\n",
    "\n",
    "nb_file_names = ['results/nb_grid' + str(i) + '.save' for i in range(5)]\n",
    "qda_file_names = ['results/lr_grid' + str(i) + '.save' for i in range(5)]\n",
    "dt_file_names = ['results/dt_grid' + str(i) + '.save' for i in range(5)]\n",
    "rf_file_names = ['results/rf_grid' + str(i) + '.save' for i in range(5)]\n",
    "knn_file_names = ['results/knn_grid' + str(i) + '.save' for i in range(5)]\n",
    "\n",
    "\n",
    "file_names = nb_file_names + qda_file_names + dt_file_names + rf_file_names + knn_file_names\n",
    "\n",
    "model_name =  ['nb' + str(i) for i in range(5)] \\\n",
    "            + ['lr' + str(i) for i in range(5)] \\\n",
    "            + ['dt' + str(i) for i in range(5)] \\\n",
    "            + ['rf' + str(i) for i in range(5)] \\\n",
    "            + ['knn' + str(i) for i in range(5)]\n",
    "\n",
    "accuracy_scores = []\n",
    "baseline_accuracy = []\n",
    "\n",
    "for i in range(len(file_names)):\n",
    "    file = open(file_names[i], 'rb')\n",
    "    print(model_name[i])\n",
    "    grid, X_test, y_test_prep = pickle.load(file)\n",
    "    print(\"best_params: \", grid.best_params_)\n",
    "    accuracy_scores.append(grid.score(X_test, y_test_prep))\n",
    "    baseline_accuracy.append(accuracy_score(y_test_prep, [7]*len(y_test_prep)))\n",
    "    print(\"baseline accuracy score for \", model_name[i], \"is: \", baseline_accuracy[-1])\n",
    "    print(\"accuracy score for \", model_name[i], \"is: \", accuracy_scores[-1])    \n",
    "    file.close()\n",
    "\n",
    "names = ['naive bayes', 'logistic regression', 'decision tree', 'random forest', 'k nearest neighbors']\n",
    "\n",
    "#naive bayes analysis\n",
    "for i in range(len(names)):\n",
    "    lower = i*5\n",
    "    upper = (i+1)*5\n",
    "    print(names[i] + \"average accuracy: \", np.mean(accuracy_scores[lower:upper]))\n",
    "    print(names[i] + \"baseline accuracy: \", np.mean(baseline_accuracy[lower:upper]))\n",
    "    print(names[i] + \"baseline std: \", np.std(baseline_accuracy[lower:upper]))\n",
    "    print(names[i] + \"std accuracy: \", np.std(accuracy_scores[lower:upper]))\n",
    "    print(\"Number of standard deviations from baseline: \", (np.mean(accuracy_scores[lower:upper]) - np.mean(baseline_accuracy[lower:upper]))/np.std(baseline_accuracy[lower:upper]))\n",
    "\n",
    "    "
   ]
  },
  {
   "cell_type": "code",
   "execution_count": 72,
   "metadata": {},
   "outputs": [
    {
     "name": "stdout",
     "output_type": "stream",
     "text": [
      "[ 1.06354693e-03  3.56288221e-03  1.46237703e-03  2.92475405e-02\n",
      "  2.39298059e-04 -7.97660197e-05  1.64849774e-03]\n"
     ]
    },
    {
     "data": {
      "image/png": "[encoded data removed]",
      "text/plain": [
       "<Figure size 864x432 with 1 Axes>"
      ]
     },
     "metadata": {
      "needs_background": "light"
     },
     "output_type": "display_data"
    },
    {
     "name": "stdout",
     "output_type": "stream",
     "text": [
      "[0.00473278 0.0129221  0.05503855 0.15227333 0.00026589 0.00042542\n",
      " 0.00741824]\n"
     ]
    },
    {
     "data": {
      "image/png": "[encoded data removed]",
      "text/plain": [
       "<Figure size 864x432 with 1 Axes>"
      ]
     },
     "metadata": {
      "needs_background": "light"
     },
     "output_type": "display_data"
    },
    {
     "name": "stdout",
     "output_type": "stream",
     "text": [
      "[0.04924222 0.07668173 0.18737038 0.12852965 0.00499867 0.00220686\n",
      " 0.06745546]\n"
     ]
    },
    {
     "data": {
      "image/png": "[encoded data removed]",
      "text/plain": [
       "<Figure size 864x432 with 1 Axes>"
      ]
     },
     "metadata": {
      "needs_background": "light"
     },
     "output_type": "display_data"
    },
    {
     "name": "stdout",
     "output_type": "stream",
     "text": [
      "[ 0.01717628  0.02813082  0.12363733  0.07702739  0.00454666 -0.00106355\n",
      "  0.05626163]\n"
     ]
    },
    {
     "data": {
      "image/png": "[encoded data removed]",
      "text/plain": [
       "<Figure size 864x432 with 1 Axes>"
      ]
     },
     "metadata": {
      "needs_background": "light"
     },
     "output_type": "display_data"
    },
    {
     "name": "stdout",
     "output_type": "stream",
     "text": [
      "[ 0.02363733  0.06102101  0.09181069  0.0608083   0.00029248 -0.00085084\n",
      "  0.08322255]\n"
     ]
    },
    {
     "data": {
      "image/png": "[encoded data removed]",
      "text/plain": [
       "<Figure size 864x432 with 1 Axes>"
      ]
     },
     "metadata": {
      "needs_background": "light"
     },
     "output_type": "display_data"
    }
   ],
   "source": [
    "from sklearn.inspection import permutation_importance\n",
    "from matplotlib import pyplot as plt\n",
    "\n",
    "for i in [0, 5, 10, 15, 20]: \n",
    "    file = open(file_names[i], 'rb')\n",
    "    grid, X_test, y_test_prep = pickle.load(file)\n",
    "    fig = plt.figure(figsize=(12, 6))\n",
    "    result = permutation_importance(grid, X_test, y_test_prep, n_repeats = 10, random_state = 12)\n",
    "    sorted_idx = result.importances_mean.argsort()[-10:]\n",
    "    print(result.importances_mean)\n",
    "    plt.boxplot(result.importances[sorted_idx].T,\n",
    "            vert=False, labels=X_test.columns[sorted_idx])\n",
    "    plt.title(\"Permutation Importance (test set), Model: \" + model_name[i])\n",
    "    plt.xlabel(\"score with perturbed feature\")\n",
    "    plt.ylabel(\"feature\")\n",
    "    fig.tight_layout()\n",
    "    plt.savefig(\"permutation_importance_\" + model_name[i])\n",
    "    plt.show()\n",
    "    file.close()\n",
    "    "
   ]
  },
  {
   "cell_type": "code",
   "execution_count": null,
   "metadata": {},
   "outputs": [],
   "source": []
  }
 ],
 "metadata": {
  "@webio": {
   "lastCommId": null,
   "lastKernelId": null
  },
  "kernelspec": {
   "display_name": "Python 3",
   "language": "python",
   "name": "python3"
  },
  "language_info": {
   "codemirror_mode": {
    "name": "ipython",
    "version": 3
   },
   "file_extension": ".py",
   "mimetype": "text/x-python",
   "name": "python",
   "nbconvert_exporter": "python",
   "pygments_lexer": "ipython3",
   "version": "3.7.8"
  }
 },
 "nbformat": 4,
 "nbformat_minor": 4
}
